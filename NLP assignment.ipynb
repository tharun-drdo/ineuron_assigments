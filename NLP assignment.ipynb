{
 "cells": [
  {
   "cell_type": "code",
   "execution_count": 5,
   "metadata": {},
   "outputs": [],
   "source": [
    "from bs4 import BeautifulSoup\n",
    "import urllib\n",
    "import nltk\n",
    "import requests\n",
    "import re"
   ]
  },
  {
   "cell_type": "code",
   "execution_count": 6,
   "metadata": {},
   "outputs": [],
   "source": [
    "response = urllib.request.urlopen('http://php.net/')\n",
    "html = response.read()\n",
    "soup = BeautifulSoup(html,\"html5lib\")"
   ]
  },
  {
   "cell_type": "code",
   "execution_count": 7,
   "metadata": {},
   "outputs": [
    {
     "name": "stderr",
     "output_type": "stream",
     "text": [
      "[nltk_data] Downloading package punkt to\n",
      "[nltk_data]     C:\\Users\\THARUN\\AppData\\Roaming\\nltk_data...\n",
      "[nltk_data]   Package punkt is already up-to-date!\n"
     ]
    }
   ],
   "source": [
    "nltk.download('punkt')\n",
    "words = nltk.word_tokenize(raw)"
   ]
  },
  {
   "cell_type": "code",
   "execution_count": 8,
   "metadata": {},
   "outputs": [
    {
     "name": "stdout",
     "output_type": "stream",
     "text": [
      "the; 1012\n",
      "''; 967\n",
      "``; 401\n",
      "on; 306\n",
      "and; 302\n",
      "in; 290\n",
      "from; 280\n",
      "of; 277\n",
      "to; 224\n",
      "avengers; 223\n",
      "original; 217\n",
      "archived; 215\n",
      "retrieved; 215\n",
      "april; 207\n",
      "endgame; 186\n",
      "'s; 181\n",
      "film; 163\n",
      "as; 139\n",
      "may; 137\n",
      "for; 118\n",
      "with; 97\n",
      "marvel; 96\n",
      "was; 85\n",
      "'avengers; 84\n",
      "war; 82\n",
      "that; 80\n",
      "million; 77\n",
      "films; 76\n",
      "infinity; 75\n",
      ".mw-parser-output; 69\n"
     ]
    }
   ],
   "source": [
    "words = [word for word in words if len(word) > 1]\n",
    "\n",
    "# Removing any numbers present in our text\n",
    "\n",
    "words = [word for word in words if not word.isnumeric()]\n",
    "\n",
    "# Lowercase all words (default_stopwords are lowercase too)\n",
    "\n",
    "words = [word.lower() for word in words]\n",
    "\n",
    "# Calculating frequency distribution\n",
    "\n",
    "fdist = nltk.FreqDist(words)\n",
    "\n",
    "# Printing the top 30 words with their frequency\n",
    "\n",
    "for word, frequency in fdist.most_common(30):\n",
    "    print(u'{}; {}'.format(word, frequency))"
   ]
  },
  {
   "cell_type": "code",
   "execution_count": null,
   "metadata": {},
   "outputs": [],
   "source": []
  }
 ],
 "metadata": {
  "kernelspec": {
   "display_name": "Python 3",
   "language": "python",
   "name": "python3"
  },
  "language_info": {
   "codemirror_mode": {
    "name": "ipython",
    "version": 3
   },
   "file_extension": ".py",
   "mimetype": "text/x-python",
   "name": "python",
   "nbconvert_exporter": "python",
   "pygments_lexer": "ipython3",
   "version": "3.8.5"
  }
 },
 "nbformat": 4,
 "nbformat_minor": 4
}
